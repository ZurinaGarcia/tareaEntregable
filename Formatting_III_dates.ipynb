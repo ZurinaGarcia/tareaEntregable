{
  "cells": [
    {
      "cell_type": "markdown",
      "id": "402943b1",
      "metadata": {
        "id": "402943b1"
      },
      "source": [
        "<center><img src=\"https://i.imgur.com/zRrFdsf.png\" width=\"700\"></center>\n",
        "\n",
        "\n",
        "# Formatting Data (dates)\n",
        "\n",
        "<a target=\"_blank\" href=\"https://colab.research.google.com/github/CienciaDeDatosEspacial/code_and_data/blob/main/Formatting_III_dates.ipynb\">\n",
        "  <img src=\"https://colab.research.google.com/assets/colab-badge.svg\" alt=\"Open In Colab\"/>\n",
        "</a>\n",
        "\n",
        "It is very common to find dates (some combination of year, month, day of week and time) in data that is collected in real time (and other that organize event information.\n",
        "\n",
        "Let's see a data frame that comes with dates from an API."
      ]
    },
    {
      "cell_type": "code",
      "execution_count": null,
      "id": "75f3c948",
      "metadata": {
        "id": "75f3c948"
      },
      "outputs": [],
      "source": [
        "import pandas as pd\n",
        "from sodapy import Socrata\n",
        "\n",
        "client = Socrata(\"data.seattle.gov\", None)\n",
        "\n",
        "results = client.get(\"kzjm-xkqj\", limit=2000)\n",
        "\n",
        "# Convert to pandas DataFrame\n",
        "calls911 = pd.DataFrame.from_records(results)"
      ]
    },
    {
      "cell_type": "markdown",
      "id": "33d1b686",
      "metadata": {
        "id": "33d1b686"
      },
      "source": [
        "Let's check some information:"
      ]
    },
    {
      "cell_type": "code",
      "execution_count": null,
      "id": "8b6e8130",
      "metadata": {
        "id": "8b6e8130"
      },
      "outputs": [],
      "source": [
        "calls911.info()"
      ]
    },
    {
      "cell_type": "markdown",
      "id": "411ee94b",
      "metadata": {
        "id": "411ee94b"
      },
      "source": [
        "Let's get rid of some columns:"
      ]
    },
    {
      "cell_type": "code",
      "execution_count": null,
      "id": "ff87b95f",
      "metadata": {
        "id": "ff87b95f"
      },
      "outputs": [],
      "source": [
        "calls911=calls911.iloc[:,:7]"
      ]
    },
    {
      "cell_type": "markdown",
      "id": "ea1b71f9",
      "metadata": {
        "id": "ea1b71f9"
      },
      "source": [
        "Let's check the column _datetime_:"
      ]
    },
    {
      "cell_type": "code",
      "execution_count": null,
      "id": "c61dade2",
      "metadata": {
        "id": "c61dade2"
      },
      "outputs": [],
      "source": [
        "calls911.datetime.head()"
      ]
    },
    {
      "cell_type": "code",
      "execution_count": null,
      "id": "0685a26d",
      "metadata": {
        "id": "0685a26d"
      },
      "outputs": [],
      "source": [
        "# then\n",
        "type(calls911.datetime[0])"
      ]
    },
    {
      "cell_type": "markdown",
      "id": "bf7e8e20",
      "metadata": {
        "id": "bf7e8e20"
      },
      "source": [
        "The date and time information is not useful at this time, that is, the information it offers is of limited use, as it is just a string.\n",
        "\n",
        "Let's make it useful:"
      ]
    },
    {
      "cell_type": "code",
      "execution_count": null,
      "id": "3902e8d6-f4fb-4946-9d84-32b1c8c35ee1",
      "metadata": {
        "id": "3902e8d6-f4fb-4946-9d84-32b1c8c35ee1"
      },
      "outputs": [],
      "source": [
        "#check\n",
        "pd.to_datetime(calls911.datetime)"
      ]
    },
    {
      "cell_type": "code",
      "execution_count": null,
      "id": "3e232c75",
      "metadata": {
        "scrolled": true,
        "id": "3e232c75"
      },
      "outputs": [],
      "source": [
        "# make the change\n",
        "calls911.datetime=pd.to_datetime(calls911.datetime,format='mixed')\n",
        "calls911.info()"
      ]
    },
    {
      "cell_type": "code",
      "execution_count": null,
      "id": "b1c2a011",
      "metadata": {
        "id": "b1c2a011"
      },
      "outputs": [],
      "source": [
        "# we have\n",
        "calls911.head()"
      ]
    },
    {
      "cell_type": "markdown",
      "id": "b90004bf",
      "metadata": {
        "id": "b90004bf"
      },
      "source": [
        "Once you have this data type, you can retrieve important information:"
      ]
    },
    {
      "cell_type": "code",
      "execution_count": null,
      "id": "0d7637b8",
      "metadata": {
        "id": "0d7637b8"
      },
      "outputs": [],
      "source": [
        "calls911['date']=calls911.datetime.dt.date\n",
        "calls911['year']=calls911.datetime.dt.year\n",
        "calls911['month']=calls911.datetime.dt.month\n",
        "calls911['month_name']=calls911.datetime.dt.month_name()\n",
        "calls911['day']=calls911.datetime.dt.day\n",
        "calls911['weekday']=calls911.datetime.dt.day_name()\n",
        "calls911['hour']=calls911.datetime.dt.hour\n",
        "calls911['minute']=calls911.datetime.dt.minute"
      ]
    },
    {
      "cell_type": "code",
      "execution_count": null,
      "id": "6c1581d8",
      "metadata": {
        "id": "6c1581d8"
      },
      "outputs": [],
      "source": [
        "calls911.head()"
      ]
    },
    {
      "cell_type": "markdown",
      "id": "5aee7d81",
      "metadata": {
        "id": "5aee7d81"
      },
      "source": [
        "Let's create a new column with what we have. In this case, a boolean where you tell if it is night time (after 8 pm before 6 am):"
      ]
    },
    {
      "cell_type": "code",
      "execution_count": null,
      "id": "335b1a0f",
      "metadata": {
        "id": "335b1a0f"
      },
      "outputs": [],
      "source": [
        "calls911['nightTime']=((calls911['hour']<=6) | (calls911['hour']>=20))"
      ]
    },
    {
      "cell_type": "code",
      "execution_count": null,
      "id": "db89f1d7",
      "metadata": {
        "id": "db89f1d7"
      },
      "outputs": [],
      "source": [
        "calls911"
      ]
    },
    {
      "cell_type": "markdown",
      "id": "28280f34",
      "metadata": {
        "id": "28280f34"
      },
      "source": [
        "Can we use several columns to build a _datetime_?"
      ]
    },
    {
      "cell_type": "code",
      "execution_count": null,
      "id": "3afa4a2d",
      "metadata": {
        "id": "3afa4a2d"
      },
      "outputs": [],
      "source": [
        "pd.to_datetime(calls911[['month', 'day','year','hour','minute']])"
      ]
    },
    {
      "cell_type": "markdown",
      "id": "b35551dd",
      "metadata": {
        "id": "b35551dd"
      },
      "source": [
        "Notice that the columns about lat/long are non numeric, let's solve that:"
      ]
    },
    {
      "cell_type": "code",
      "execution_count": null,
      "id": "21032db1",
      "metadata": {
        "id": "21032db1"
      },
      "outputs": [],
      "source": [
        "calls911[['longitude','latitude']]=calls911[['longitude','latitude']].apply(lambda x:pd.to_numeric(x))"
      ]
    },
    {
      "cell_type": "code",
      "execution_count": null,
      "id": "a8add445",
      "metadata": {
        "id": "a8add445"
      },
      "outputs": [],
      "source": [
        "#re check\n",
        "calls911.info()"
      ]
    },
    {
      "cell_type": "markdown",
      "id": "b60afa87",
      "metadata": {
        "id": "b60afa87"
      },
      "source": [
        "Let's save what we have:"
      ]
    },
    {
      "cell_type": "code",
      "execution_count": null,
      "id": "954e790c",
      "metadata": {
        "id": "954e790c"
      },
      "outputs": [],
      "source": [
        "import os\n",
        "\n",
        "where=os.path.join('data','calls911.pkl')\n",
        "calls911.to_pickle(where)"
      ]
    }
  ],
  "metadata": {
    "kernelspec": {
      "display_name": "Python 3 (ipykernel)",
      "language": "python",
      "name": "python3"
    },
    "language_info": {
      "codemirror_mode": {
        "name": "ipython",
        "version": 3
      },
      "file_extension": ".py",
      "mimetype": "text/x-python",
      "name": "python",
      "nbconvert_exporter": "python",
      "pygments_lexer": "ipython3",
      "version": "3.11.5"
    },
    "colab": {
      "provenance": []
    }
  },
  "nbformat": 4,
  "nbformat_minor": 5
}